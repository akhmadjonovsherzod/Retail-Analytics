{
 "cells": [
  {
   "cell_type": "code",
   "execution_count": 1,
   "id": "edc06068-c3f8-4edc-9e28-331ff9825f64",
   "metadata": {},
   "outputs": [],
   "source": [
    "import pandas as pd\n",
    "import numpy as np\n",
    "\n",
    "retail_df = pd.read_csv(\n",
    "    \"retail/retail_2016_2017.csv\", skiprows=range(1, 11000), nrows=1000\n",
    ")\n",
    "\n",
    "family_array = np.array(retail_df[\"family\"])\n",
    "sales_array = np.array(retail_df[\"sales\"])"
   ]
  },
  {
   "cell_type": "code",
   "execution_count": 2,
   "id": "c827bfc4-e063-4358-a552-2710134c3d3a",
   "metadata": {},
   "outputs": [],
   "source": [
    "produce_array = sales_array[family_array == \"PRODUCE\"]"
   ]
  },
  {
   "cell_type": "code",
   "execution_count": 3,
   "id": "d458e13c-3da5-46a8-be93-53cef00db633",
   "metadata": {},
   "outputs": [],
   "source": [
    "rng = np.random.default_rng(2022)\n",
    "\n",
    "random_array = rng.random(30)\n",
    "\n",
    "sampled_array = produce_array[random_array < 0.5]"
   ]
  },
  {
   "cell_type": "code",
   "execution_count": 4,
   "id": "96fdb965-b724-4303-9bf2-354c01474330",
   "metadata": {},
   "outputs": [
    {
     "data": {
      "text/plain": [
       "2268.102470588235"
      ]
     },
     "execution_count": 4,
     "metadata": {},
     "output_type": "execute_result"
    }
   ],
   "source": [
    "mean = sampled_array.mean()\n",
    "\n",
    "mean"
   ]
  },
  {
   "cell_type": "code",
   "execution_count": 5,
   "id": "a630430a-d492-4cda-9fab-c21048c81633",
   "metadata": {},
   "outputs": [
    {
     "data": {
      "text/plain": [
       "1272.755"
      ]
     },
     "execution_count": 5,
     "metadata": {},
     "output_type": "execute_result"
    }
   ],
   "source": [
    "median = np.median(sampled_array)\n",
    "\n",
    "median"
   ]
  },
  {
   "cell_type": "code",
   "execution_count": 6,
   "id": "091c03b7-dff6-4d65-a1fa-4b00414bae43",
   "metadata": {},
   "outputs": [
    {
     "data": {
      "text/plain": [
       "array(['above_median', 'below_both', 'below_both', 'below_both',\n",
       "       'above_both', 'below_both', 'below_both', 'above_both',\n",
       "       'below_both', 'above_median', 'above_both', 'above_both',\n",
       "       'below_both', 'above_median', 'above_both', 'below_both',\n",
       "       'above_both'], dtype='<U12')"
      ]
     },
     "execution_count": 6,
     "metadata": {},
     "output_type": "execute_result"
    }
   ],
   "source": [
    "np.where(\n",
    "    sampled_array < median,\n",
    "    \"below_both\",\n",
    "    np.where(sampled_array > mean, \"above_both\", \"above_median\"),\n",
    ")"
   ]
  },
  {
   "cell_type": "code",
   "execution_count": 7,
   "id": "fa51e809-36e5-4fe5-b9f0-b08eaabb4d25",
   "metadata": {},
   "outputs": [
    {
     "data": {
      "text/plain": [
       "array([1662.394,  447.064,  962.866, 1077.44 , 3404.531,  962.96 ,\n",
       "       1089.319, 7860.031,  446.038, 1272.755, 2775.771, 2339.906,\n",
       "        722.333, 1567.843, 2458.456,  673.885, 8834.15 ])"
      ]
     },
     "execution_count": 7,
     "metadata": {},
     "output_type": "execute_result"
    }
   ],
   "source": [
    "sampled_array"
   ]
  },
  {
   "cell_type": "code",
   "execution_count": 8,
   "id": "271aecd9-95f8-41b0-8850-dbf5f07d15d8",
   "metadata": {},
   "outputs": [
    {
     "data": {
      "text/plain": [
       "array([52.22, 51.44, 51.98, 52.01, 52.82, 54.01, 53.8 , 53.75, 52.36,\n",
       "       53.26, 53.77, 53.98, 51.95, 50.82, 52.19, 53.01, 52.36, 52.45,\n",
       "       51.12, 51.39, 52.33, 52.77, 52.38, 52.14, 53.24, 53.18, 52.63,\n",
       "       52.75, 53.9 , 53.55, 53.81, 53.01, 52.19, 52.37, 52.99, 53.84,\n",
       "       52.96, 53.21, 53.11, 53.41, 53.41, 54.02, 53.61, 54.48, 53.99,\n",
       "       54.04, 54.  , 53.82, 52.63, 53.33, 53.19, 52.68, 49.83, 48.75,\n",
       "       48.05, 47.95, 47.24, 48.34, 48.3 , 48.34, 47.79, 47.02, 47.29,\n",
       "       47.  , 47.3 , 47.02, 48.36, 49.47, 50.3 , 50.54, 50.25, 50.99,\n",
       "       51.14, 51.69, 52.25, 53.06, 53.38, 53.12, 53.19, 52.62, 52.46,\n",
       "       50.49, 50.26, 49.64, 48.9 , 49.22, 49.22, 48.96, 49.31, 48.83,\n",
       "       47.65, 47.79, 45.55, 46.23, 46.46, 45.84, 47.28, 47.81, 47.83,\n",
       "       48.86])"
      ]
     },
     "execution_count": 8,
     "metadata": {},
     "output_type": "execute_result"
    }
   ],
   "source": [
    "oil = pd.read_csv(\"retail/oil.csv\").dropna()\n",
    "\n",
    "oil_array = np.array(oil[\"dcoilwtico\"].iloc[1000:1100])\n",
    "\n",
    "oil_array"
   ]
  },
  {
   "cell_type": "code",
   "execution_count": 9,
   "id": "506b1d83-8e26-4fa5-991f-31a088f9d753",
   "metadata": {},
   "outputs": [
    {
     "data": {
      "text/plain": [
       "0     52.22\n",
       "1     51.44\n",
       "2     51.98\n",
       "3     52.01\n",
       "4     52.82\n",
       "      ...  \n",
       "95    45.84\n",
       "96    47.28\n",
       "97    47.81\n",
       "98    47.83\n",
       "99    48.86\n",
       "Name: oil_prices, Length: 100, dtype: float64"
      ]
     },
     "execution_count": 9,
     "metadata": {},
     "output_type": "execute_result"
    }
   ],
   "source": [
    "oil_series = pd.Series(oil_array, name=\"oil_prices\")\n",
    "              \n",
    "oil_series"
   ]
  },
  {
   "cell_type": "code",
   "execution_count": 10,
   "id": "c384d888-1f57-4ccd-a9d1-3f82a27ae57e",
   "metadata": {},
   "outputs": [
    {
     "name": "stdout",
     "output_type": "stream",
     "text": [
      "Name: oil_prices\n",
      "dtype: float64\n",
      "size: 100\n",
      "index: RangeIndex(start=0, stop=100, step=1)\n"
     ]
    }
   ],
   "source": [
    "print(f\"Name: {oil_series.name}\")\n",
    "print(f\"dtype: {oil_series.dtype}\")\n",
    "print(f\"size: {oil_series.size}\")\n",
    "print(f\"index: {oil_series.index}\")"
   ]
  },
  {
   "cell_type": "code",
   "execution_count": 11,
   "id": "d0578601-58d1-4ec0-94a0-bbb0441c5a85",
   "metadata": {},
   "outputs": [
    {
     "data": {
      "text/plain": [
       "51.128299999999996"
      ]
     },
     "execution_count": 11,
     "metadata": {},
     "output_type": "execute_result"
    }
   ],
   "source": [
    "oil_series.values.mean()"
   ]
  },
  {
   "cell_type": "code",
   "execution_count": 12,
   "id": "bc7e5967-145a-4df9-b91f-83246389eaa3",
   "metadata": {},
   "outputs": [
    {
     "data": {
      "text/plain": [
       "RangeIndex(start=0, stop=100, step=1)"
      ]
     },
     "execution_count": 12,
     "metadata": {},
     "output_type": "execute_result"
    }
   ],
   "source": [
    "oil_series.index"
   ]
  },
  {
   "cell_type": "code",
   "execution_count": 13,
   "id": "79c62c88-fa25-4d58-b656-478fc874817b",
   "metadata": {},
   "outputs": [
    {
     "data": {
      "text/plain": [
       "dtype('int64')"
      ]
     },
     "execution_count": 13,
     "metadata": {},
     "output_type": "execute_result"
    }
   ],
   "source": [
    "oil_series.index.dtype"
   ]
  },
  {
   "cell_type": "code",
   "execution_count": 14,
   "id": "dd7c2cbe-7ed4-455c-8de9-60478bf88972",
   "metadata": {},
   "outputs": [
    {
     "data": {
      "text/plain": [
       "50.66"
      ]
     },
     "execution_count": 14,
     "metadata": {},
     "output_type": "execute_result"
    }
   ],
   "source": [
    "oil_series.astype(\"int\").values.mean()"
   ]
  },
  {
   "cell_type": "code",
   "execution_count": 15,
   "id": "96a001b0-c940-41e4-85e5-4210066ad140",
   "metadata": {},
   "outputs": [
    {
     "data": {
      "text/plain": [
       "array(['2016-12-20', '2016-12-21', '2016-12-22', '2016-12-23',\n",
       "       '2016-12-27', '2016-12-28', '2016-12-29', '2016-12-30',\n",
       "       '2017-01-03', '2017-01-04', '2017-01-05', '2017-01-06',\n",
       "       '2017-01-09', '2017-01-10', '2017-01-11', '2017-01-12',\n",
       "       '2017-01-13', '2017-01-17', '2017-01-18', '2017-01-19',\n",
       "       '2017-01-20', '2017-01-23', '2017-01-24', '2017-01-25',\n",
       "       '2017-01-26', '2017-01-27', '2017-01-30', '2017-01-31',\n",
       "       '2017-02-01', '2017-02-02', '2017-02-03', '2017-02-06',\n",
       "       '2017-02-07', '2017-02-08', '2017-02-09', '2017-02-10',\n",
       "       '2017-02-13', '2017-02-14', '2017-02-15', '2017-02-16',\n",
       "       '2017-02-17', '2017-02-21', '2017-02-22', '2017-02-23',\n",
       "       '2017-02-24', '2017-02-27', '2017-02-28', '2017-03-01',\n",
       "       '2017-03-02', '2017-03-03', '2017-03-06', '2017-03-07',\n",
       "       '2017-03-08', '2017-03-09', '2017-03-10', '2017-03-13',\n",
       "       '2017-03-14', '2017-03-15', '2017-03-16', '2017-03-17',\n",
       "       '2017-03-20', '2017-03-21', '2017-03-22', '2017-03-23',\n",
       "       '2017-03-24', '2017-03-27', '2017-03-28', '2017-03-29',\n",
       "       '2017-03-30', '2017-03-31', '2017-04-03', '2017-04-04',\n",
       "       '2017-04-05', '2017-04-06', '2017-04-07', '2017-04-10',\n",
       "       '2017-04-11', '2017-04-12', '2017-04-13', '2017-04-17',\n",
       "       '2017-04-18', '2017-04-19', '2017-04-20', '2017-04-21',\n",
       "       '2017-04-24', '2017-04-25', '2017-04-26', '2017-04-27',\n",
       "       '2017-04-28', '2017-05-01', '2017-05-02', '2017-05-03',\n",
       "       '2017-05-04', '2017-05-05', '2017-05-08', '2017-05-09',\n",
       "       '2017-05-10', '2017-05-11', '2017-05-12', '2017-05-15'],\n",
       "      dtype=object)"
      ]
     },
     "execution_count": 15,
     "metadata": {},
     "output_type": "execute_result"
    }
   ],
   "source": [
    "dates_array = np.array(oil[\"date\"].iloc[1000:1100])\n",
    "\n",
    "dates_array"
   ]
  },
  {
   "cell_type": "code",
   "execution_count": 16,
   "id": "2ea869c7-00c0-4b2e-9310-82635426351a",
   "metadata": {},
   "outputs": [
    {
     "data": {
      "text/plain": [
       "2016-12-20    52.22\n",
       "2016-12-21    51.44\n",
       "2016-12-22    51.98\n",
       "2016-12-23    52.01\n",
       "2016-12-27    52.82\n",
       "              ...  \n",
       "2017-05-09    45.84\n",
       "2017-05-10    47.28\n",
       "2017-05-11    47.81\n",
       "2017-05-12    47.83\n",
       "2017-05-15    48.86\n",
       "Name: Oil Prices with Dates, Length: 100, dtype: float64"
      ]
     },
     "execution_count": 16,
     "metadata": {},
     "output_type": "execute_result"
    }
   ],
   "source": [
    "oil_series_with_dates = pd.Series(oil_array, index=dates_array, name=\"Oil Prices with Dates\")\n",
    "\n",
    "oil_series_with_dates"
   ]
  },
  {
   "cell_type": "code",
   "execution_count": 17,
   "id": "6a706d2b-5fdb-4764-8aa8-54e623fcf6f3",
   "metadata": {},
   "outputs": [],
   "source": [
    "first_10 = oil_series_with_dates.iloc[0:10]\n",
    "last_10 = oil_series_with_dates.iloc[-9:]"
   ]
  },
  {
   "cell_type": "code",
   "execution_count": 18,
   "id": "e067e9ee-eca4-4cbd-a146-cf1038be75bd",
   "metadata": {},
   "outputs": [
    {
     "name": "stdout",
     "output_type": "stream",
     "text": [
      "52.765\n"
     ]
    }
   ],
   "source": [
    "avg_first10 = first_10.mean()\n",
    "print(avg_first10)"
   ]
  },
  {
   "cell_type": "code",
   "execution_count": 19,
   "id": "3189df4a-0acb-44f7-8cea-9c67355399b8",
   "metadata": {},
   "outputs": [
    {
     "name": "stdout",
     "output_type": "stream",
     "text": [
      "47.07222222222222\n"
     ]
    }
   ],
   "source": [
    "avg_last10 = last_10.mean()\n",
    "print(avg_last10)"
   ]
  },
  {
   "cell_type": "code",
   "execution_count": 20,
   "id": "90af10e7-c4af-490a-9b29-f73f3fc86e12",
   "metadata": {},
   "outputs": [
    {
     "data": {
      "text/plain": [
       "2017-01-03    52.36\n",
       "2017-01-04    53.26\n",
       "2017-01-05    53.77\n",
       "2017-01-06    53.98\n",
       "Name: Oil Prices with Dates, dtype: float64"
      ]
     },
     "execution_count": 20,
     "metadata": {},
     "output_type": "execute_result"
    }
   ],
   "source": [
    "oil_prices_january = oil_series_with_dates.loc['2017-01-01':'2017-01-07']\n",
    "oil_prices_january"
   ]
  },
  {
   "cell_type": "code",
   "execution_count": 21,
   "id": "22867442-2f2b-474f-90b8-3eec1ff86d7c",
   "metadata": {},
   "outputs": [
    {
     "name": "stdout",
     "output_type": "stream",
     "text": [
      "0    52.36\n",
      "1    53.26\n",
      "2    53.77\n",
      "3    53.98\n",
      "Name: Oil Prices with Dates, dtype: float64\n"
     ]
    }
   ],
   "source": [
    "print(oil_prices_january.reset_index(drop=True))"
   ]
  },
  {
   "cell_type": "code",
   "execution_count": 48,
   "id": "ee7fc31a-e52e-4aa4-925b-808a431dc343",
   "metadata": {},
   "outputs": [
    {
     "data": {
      "text/plain": [
       "2017-05-10    47.28\n",
       "2017-05-09    45.84\n",
       "2017-05-08    46.46\n",
       "2017-05-05    46.23\n",
       "2017-05-04    45.55\n",
       "2017-03-27    47.02\n",
       "2017-03-23    47.00\n",
       "2017-03-22    47.29\n",
       "2017-03-21    47.02\n",
       "2017-03-14    47.24\n",
       "Name: Oil Prices with Dates, dtype: float64"
      ]
     },
     "execution_count": 48,
     "metadata": {},
     "output_type": "execute_result"
    }
   ],
   "source": [
    "tenLowestPrices = oil_series_with_dates.sort_values(ascending=False)[-10:].sort_index(ascending=False)\n",
    "\n",
    "tenLowestPrices"
   ]
  },
  {
   "cell_type": "code",
   "execution_count": 60,
   "id": "17670034-6ecd-47be-a4b3-ad4e74e87bf1",
   "metadata": {},
   "outputs": [
    {
     "data": {
      "text/plain": [
       "2017-03-21    47.02\n",
       "2017-05-03    47.79\n",
       "Name: Oil Prices with Dates, dtype: float64"
      ]
     },
     "execution_count": 60,
     "metadata": {},
     "output_type": "execute_result"
    }
   ],
   "source": [
    "given_dates = [\n",
    "    \"2016-12-22\", \n",
    "    \"2017-05-03\", \n",
    "    \"2017-01-06\", \n",
    "    \"2017-03-05\", \n",
    "    \"2017-02-12\", \n",
    "    \"2017-03-21\", \n",
    "    \"2017-04-14\", \n",
    "    \"2017-04-15\", \n",
    "]\n",
    "\n",
    "narrowed = (oil_series_with_dates.index.isin(given_dates)) & (oil_series_with_dates <= 50)\n",
    "\n",
    "oil_series_with_dates[narrowed]"
   ]
  },
  {
   "cell_type": "code",
   "execution_count": 68,
   "id": "f8089f1c-a6cf-458b-8c16-71c370c687c5",
   "metadata": {},
   "outputs": [
    {
     "name": "stdout",
     "output_type": "stream",
     "text": [
      "Original Prices\n",
      "2016-12-20    52.22\n",
      "2016-12-21    51.44\n",
      "2016-12-22    51.98\n",
      "2016-12-23    52.01\n",
      "2016-12-27    52.82\n",
      "              ...  \n",
      "2017-05-09    45.84\n",
      "2017-05-10    47.28\n",
      "2017-05-11    47.81\n",
      "2017-05-12    47.83\n",
      "2017-05-15    48.86\n",
      "Name: Oil Prices with Dates, Length: 100, dtype: float64\n",
      "\n",
      "Increased by 10%\n",
      "2016-12-20    57.442\n",
      "2016-12-21    56.584\n",
      "2016-12-22    57.178\n",
      "2016-12-23    57.211\n",
      "2016-12-27    58.102\n",
      "               ...  \n",
      "2017-05-09    50.424\n",
      "2017-05-10    52.008\n",
      "2017-05-11    52.591\n",
      "2017-05-12    52.613\n",
      "2017-05-15    53.746\n",
      "Name: Oil Prices with Dates, Length: 100, dtype: float64\n",
      "\n",
      "Added 2$ per barrel\n",
      "2016-12-20    59.442\n",
      "2016-12-21    58.584\n",
      "2016-12-22    59.178\n",
      "2016-12-23    59.211\n",
      "2016-12-27    60.102\n",
      "               ...  \n",
      "2017-05-09    52.424\n",
      "2017-05-10    54.008\n",
      "2017-05-11    54.591\n",
      "2017-05-12    54.613\n",
      "2017-05-15    55.746\n",
      "Name: Oil Prices with Dates, Length: 100, dtype: float64\n"
     ]
    }
   ],
   "source": [
    "increased_10 = oil_series_with_dates.multiply(1.10)\n",
    "increased_10_2 = increased_10.add(2, fill_value=0)\n",
    "\n",
    "print(\"Original Prices\")\n",
    "print(oil_series_with_dates)\n",
    "\n",
    "print()\n",
    "print(\"Increased by 10%\")\n",
    "print(increased_10)\n",
    "\n",
    "print()\n",
    "print(\"Added 2$ per barrel\")\n",
    "print(increased_10_2)"
   ]
  },
  {
   "cell_type": "code",
   "execution_count": 74,
   "id": "b98cc2d5-2e0d-4362-ab35-31b4331b81c7",
   "metadata": {},
   "outputs": [
    {
     "data": {
      "text/plain": [
       "54.48"
      ]
     },
     "execution_count": 74,
     "metadata": {},
     "output_type": "execute_result"
    }
   ],
   "source": [
    "max_price = oil_series_with_dates.max()\n",
    "max_price"
   ]
  },
  {
   "cell_type": "code",
   "execution_count": 104,
   "id": "925b6805-9ba0-4a97-a6b2-92ceb4fef5d6",
   "metadata": {},
   "outputs": [
    {
     "data": {
      "text/plain": [
       "2016-12-20   -0.041483\n",
       "2016-12-21   -0.055800\n",
       "2016-12-22   -0.045888\n",
       "2016-12-23   -0.045338\n",
       "2016-12-27   -0.030470\n",
       "                ...   \n",
       "2017-05-09   -0.158590\n",
       "2017-05-10   -0.132159\n",
       "2017-05-11   -0.122430\n",
       "2017-05-12   -0.122063\n",
       "2017-05-15   -0.103157\n",
       "Name: Price difference each price and max price in %, Length: 100, dtype: float64"
      ]
     },
     "execution_count": 104,
     "metadata": {},
     "output_type": "execute_result"
    }
   ],
   "source": [
    "prices_diff = (oil_series_with_dates - max_price) / max_price\n",
    "prices_diff.name = \"Price difference each price and max price in %\"\n",
    "prices_diff"
   ]
  },
  {
   "cell_type": "code",
   "execution_count": 102,
   "id": "2285844a-1d45-4dd6-b60d-878087b734ef",
   "metadata": {},
   "outputs": [
    {
     "data": {
      "text/plain": [
       "0     12\n",
       "1     12\n",
       "2     12\n",
       "3     12\n",
       "4     12\n",
       "      ..\n",
       "95     5\n",
       "96     5\n",
       "97     5\n",
       "98     5\n",
       "99     5\n",
       "Name: Months, Length: 100, dtype: int32"
      ]
     },
     "execution_count": 102,
     "metadata": {},
     "output_type": "execute_result"
    }
   ],
   "source": [
    "months_series = pd.Series(dates_array, name=\"Months\")\n",
    "\n",
    "months_series = months_series.str.slice(5,7).astype(\"int\")\n",
    "months_series"
   ]
  },
  {
   "cell_type": "code",
   "execution_count": null,
   "id": "92aab71f-0932-4fb4-9e55-2d84e13a6a37",
   "metadata": {},
   "outputs": [],
   "source": []
  }
 ],
 "metadata": {
  "kernelspec": {
   "display_name": "Python [conda env:base] *",
   "language": "python",
   "name": "conda-base-py"
  },
  "language_info": {
   "codemirror_mode": {
    "name": "ipython",
    "version": 3
   },
   "file_extension": ".py",
   "mimetype": "text/x-python",
   "name": "python",
   "nbconvert_exporter": "python",
   "pygments_lexer": "ipython3",
   "version": "3.12.7"
  }
 },
 "nbformat": 4,
 "nbformat_minor": 5
}
